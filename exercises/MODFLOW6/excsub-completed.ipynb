{
 "cells": [
  {
   "cell_type": "code",
   "execution_count": 1,
   "metadata": {},
   "outputs": [
    {
     "name": "stdout",
     "output_type": "stream",
     "text": [
      "flopy is installed in /Users/jdhughes/Documents/Development/flopy_git/flopy_fork/flopy\n",
      "Executable file found: /Users/jdhughes/Documents/trash/mf6flopy2019_classrepo/exercises/bin/macos/mf2005\n",
      "Executable file found: /Users/jdhughes/Documents/trash/mf6flopy2019_classrepo/exercises/bin/macos/mfnwt\n",
      "Executable file found: /Users/jdhughes/Documents/trash/mf6flopy2019_classrepo/exercises/bin/macos/mp7\n",
      "Executable file found: /Users/jdhughes/Documents/trash/mf6flopy2019_classrepo/exercises/bin/macos/mt3dms\n",
      "Executable file found: /Users/jdhughes/Documents/trash/mf6flopy2019_classrepo/exercises/bin/macos/mt3dusgs\n",
      "Executable file found: /Users/jdhughes/Documents/trash/mf6flopy2019_classrepo/exercises/bin/macos/mf6\n",
      "Executable file found: /Users/jdhughes/Documents/trash/mf6flopy2019_classrepo/exercises/bin/macos/mf6beta\n",
      "Executable file found: /Users/jdhughes/Documents/trash/mf6flopy2019_classrepo/exercises/bin/macos/gridgen\n",
      "Executable file found: /Users/jdhughes/Documents/trash/mf6flopy2019_classrepo/exercises/bin/macos/triangle\n",
      "3.6.7 | packaged by conda-forge | (default, Feb 28 2019, 02:16:08) \n",
      "[GCC 4.2.1 Compatible Clang 4.0.1 (tags/RELEASE_401/final)]\n",
      "python executable: /anaconda3/bin/python\n",
      "numpy version: 1.14.5\n",
      "matplotlib version: 2.2.2\n",
      "flopy version: 3.2.11\n"
     ]
    }
   ],
   "source": [
    "import os\n",
    "import sys\n",
    "import numpy as np\n",
    "import flopy\n",
    "import matplotlib as mpl\n",
    "import matplotlib.pyplot as plt\n",
    "\n",
    "import config\n",
    "\n",
    "print(sys.version)\n",
    "print('python executable: {}'.format(sys.executable))\n",
    "print('numpy version: {}'.format(np.__version__))\n",
    "print('matplotlib version: {}'.format(mpl.__version__))\n",
    "print('flopy version: {}'.format(flopy.__version__))"
   ]
  },
  {
   "cell_type": "code",
   "execution_count": 2,
   "metadata": {},
   "outputs": [],
   "source": [
    "data_ws = './excsub-data'"
   ]
  },
  {
   "cell_type": "code",
   "execution_count": 3,
   "metadata": {},
   "outputs": [],
   "source": [
    "model_ws = './excsub-completed'\n",
    "\n",
    "name = 'csub_subwt'"
   ]
  },
  {
   "cell_type": "code",
   "execution_count": 4,
   "metadata": {},
   "outputs": [],
   "source": [
    "# temporal discretization\n",
    "nper = 3\n",
    "perlen = [1., 21915., 21915.]\n",
    "nstp = [1, 60, 60]\n",
    "tsmult = [1., 1., 1.]"
   ]
  },
  {
   "cell_type": "code",
   "execution_count": 5,
   "metadata": {},
   "outputs": [],
   "source": [
    "# load and process idomain\n",
    "fpth = os.path.join(data_ws, 'ibc01_ibound.ref')\n",
    "ib0 = np.genfromtxt(fpth)"
   ]
  },
  {
   "cell_type": "code",
   "execution_count": 6,
   "metadata": {},
   "outputs": [],
   "source": [
    "# spatial discretization\n",
    "nlay, nrow, ncol = 4, ib0.shape[0], ib0.shape[1]\n",
    "shape3d = (nlay, nrow, ncol)\n",
    "size3d = nlay * nrow * ncol\n",
    "nactive = np.count_nonzero(ib0) * nlay"
   ]
  },
  {
   "cell_type": "code",
   "execution_count": 7,
   "metadata": {},
   "outputs": [],
   "source": [
    "delr, delc = 2000., 2000.\n",
    "top = 150.\n",
    "botm = [50., -100., -150., -350.]\n",
    "strt = 100."
   ]
  },
  {
   "cell_type": "code",
   "execution_count": 8,
   "metadata": {},
   "outputs": [],
   "source": [
    "ib = []\n",
    "for k in range(nlay):\n",
    "    ib.append(ib0.astype(np.int).copy())"
   ]
  },
  {
   "cell_type": "code",
   "execution_count": 9,
   "metadata": {},
   "outputs": [
    {
     "data": {
      "text/plain": [
       "<matplotlib.image.AxesImage at 0x11a224208>"
      ]
     },
     "execution_count": 9,
     "metadata": {},
     "output_type": "execute_result"
    },
    {
     "data": {
      "image/png": "[encoded data removed]",
      "text/plain": [
       "<Figure size 432x288 with 1 Axes>"
      ]
     },
     "metadata": {},
     "output_type": "display_data"
    }
   ],
   "source": [
    "plt.imshow(ib0)"
   ]
  },
  {
   "cell_type": "code",
   "execution_count": 10,
   "metadata": {},
   "outputs": [],
   "source": [
    "# npf data\n",
    "laytyp = [1, 0, 0, 0]\n",
    "hk = [4., 4., 1e-2, 4.]\n",
    "sy = [0.3, 0., 0., 0.]"
   ]
  },
  {
   "cell_type": "code",
   "execution_count": 11,
   "metadata": {},
   "outputs": [],
   "source": [
    "# well data\n",
    "ws1 = [((0, 0, 7), 2.2000000E+03),\n",
    "       ((0, 1, 4), 2.2000000E+03),\n",
    "       ((0, 1, 7), 2.2000000E+03),\n",
    "       ((0, 1, 11), 2.2000000E+03),\n",
    "       ((0, 2, 3), 2.2000000E+03),\n",
    "       ((0, 3, 11), 2.2000000E+03),\n",
    "       ((0, 4, 2), 2.2000000E+03),\n",
    "       ((0, 4, 12), 2.2000000E+03),\n",
    "       ((0, 5, 13), 2.2000000E+03),\n",
    "       ((0, 6, 1), 2.2000000E+03),\n",
    "       ((0, 13, 1), 2.2000000E+03),\n",
    "       ((0, 13, 13), 2.2000000E+03),\n",
    "       ((0, 15, 2), 2.2000000E+03),\n",
    "       ((0, 15, 12), 2.2000000E+03),\n",
    "       ((0, 16, 12), 2.2000000E+03),\n",
    "       ((0, 17, 3), 2.2000000E+03),\n",
    "       ((0, 17, 11), 2.2000000E+03),\n",
    "       ((0, 18, 6), 2.2000000E+03)]\n",
    "ws2 = [((0, 0, 7), 2.2000000E+03),\n",
    "       ((0, 1, 4), 2.2000000E+03),\n",
    "       ((0, 1, 7), 2.2000000E+03),\n",
    "       ((0, 1, 11), 2.2000000E+03),\n",
    "       ((0, 2, 3), 2.2000000E+03),\n",
    "       ((0, 3, 11), 2.2000000E+03),\n",
    "       ((0, 4, 2), 2.2000000E+03),\n",
    "       ((0, 4, 12), 2.2000000E+03),\n",
    "       ((0, 5, 13), 2.2000000E+03),\n",
    "       ((0, 6, 1), 2.2000000E+03),\n",
    "       ((0, 13, 1), 2.2000000E+03),\n",
    "       ((0, 13, 13), 2.2000000E+03),\n",
    "       ((0, 15, 2), 2.2000000E+03),\n",
    "       ((0, 15, 12), 2.2000000E+03),\n",
    "       ((0, 16, 12), 2.2000000E+03),\n",
    "       ((0, 17, 3), 2.2000000E+03),\n",
    "       ((0, 17, 11), 2.2000000E+03),\n",
    "       ((0, 18, 6), 2.2000000E+03),\n",
    "       ((1, 8, 9), -7.2000000E+04),\n",
    "       ((3, 11, 6), -7.2000000E+04)]\n",
    "wd6 = {0: ws1, 1: ws2, 2: ws1}"
   ]
  },
  {
   "cell_type": "code",
   "execution_count": 12,
   "metadata": {},
   "outputs": [],
   "source": [
    "# constant head data\n",
    "chd6 = [((0, 19, 7), 100.00000),\n",
    "        ((0, 19, 8), 100.00000),\n",
    "        ((1, 19, 7), 100.00000),\n",
    "        ((1, 19, 8), 100.00000),\n",
    "        ((2, 19, 7), 100.00000),\n",
    "        ((2, 19, 8), 100.00000),\n",
    "        ((3, 19, 7), 100.00000),\n",
    "        ((3, 19, 8), 100.00000)]\n",
    "cd6 = {0: chd6}"
   ]
  },
  {
   "cell_type": "code",
   "execution_count": 13,
   "metadata": {},
   "outputs": [],
   "source": [
    "# ims parameters\n",
    "nouter, ninner = 100, 300\n",
    "hclose, rclose, relax = 1e-6, 0.01, 0.97\n",
    "fluxtol = nactive * rclose"
   ]
  },
  {
   "cell_type": "code",
   "execution_count": 14,
   "metadata": {},
   "outputs": [],
   "source": [
    "# tdis data\n",
    "tdis_rc = []\n",
    "for idx in range(nper):\n",
    "    tdis_rc.append((perlen[idx], nstp[idx], tsmult[idx]))"
   ]
  },
  {
   "cell_type": "code",
   "execution_count": 15,
   "metadata": {},
   "outputs": [],
   "source": [
    "# subwt data\n",
    "cc = 0.25\n",
    "cr = 0.01\n",
    "void = 0.82\n",
    "theta = void / (1. + void)\n",
    "kv = 999.\n",
    "sgm = 1.7\n",
    "sgs = 2.0\n",
    "ini_stress = 15.0\n",
    "delay_flag = 0\n",
    "thick = [45., 70., 50., 90.]\n",
    "gs0 = 0.\n",
    "ump = None"
   ]
  },
  {
   "cell_type": "code",
   "execution_count": 16,
   "metadata": {},
   "outputs": [],
   "source": [
    "zthick = [top - botm[0],\n",
    "          botm[0] - botm[1],\n",
    "          botm[1] - botm[2],\n",
    "          botm[2] - botm[3]]\n",
    "\n",
    "beta = 0.\n",
    "# beta = 4.65120000e-10\n",
    "gammaw = 9806.65000000\n",
    "sw = beta * gammaw * theta\n",
    "ss = [sw for k in range(nlay)]"
   ]
  },
  {
   "cell_type": "code",
   "execution_count": 17,
   "metadata": {},
   "outputs": [],
   "source": [
    "swt6 = []\n",
    "csubno = 0\n",
    "for k in range(nlay):\n",
    "    for i in range(nrow):\n",
    "        for j in range(ncol):\n",
    "            iactive = 0\n",
    "            if ib0[i, j] > 0:\n",
    "                iactive = 1\n",
    "            if i == 19 and (j == 7 or j == 8):\n",
    "                iactive = 0\n",
    "            if iactive > 0:\n",
    "                tag = '{:02d}_{:02d}_{:02d}'.format(k + 1, i + 1, j + 1)\n",
    "                csubno += 1\n",
    "                d = [csubno, (k, i, j), 'nodelay', ini_stress, thick[k],\n",
    "                     1., cc, cr, theta,\n",
    "                     kv, 999., tag]\n",
    "                swt6.append(d)"
   ]
  },
  {
   "cell_type": "code",
   "execution_count": 18,
   "metadata": {},
   "outputs": [],
   "source": [
    "# build MODFLOW 6 files\n",
    "sim = flopy.mf6.MFSimulation(sim_name=name,\n",
    "                             exe_name=config.mf6betaexe,\n",
    "                             sim_ws=model_ws)\n",
    "# create tdis package\n",
    "tdis = flopy.mf6.ModflowTdis(sim, time_units='DAYS',\n",
    "                             nper=nper, perioddata=tdis_rc)\n",
    "\n",
    "# create gwf model\n",
    "gwf = flopy.mf6.ModflowGwf(sim, modelname=name, save_flows=True,\n",
    "                           newtonoptions='')\n",
    "\n",
    "# create iterative model solution and register the gwf model with it\n",
    "ims = flopy.mf6.ModflowIms(sim, print_option='SUMMARY',\n",
    "                           outer_hclose=hclose,\n",
    "                           outer_maximum=nouter,\n",
    "                           under_relaxation='NONE',\n",
    "                           inner_maximum=ninner,\n",
    "                           inner_hclose=hclose, rcloserecord=rclose,\n",
    "                           linear_acceleration='BICGSTAB',\n",
    "                           scaling_method='NONE',\n",
    "                           reordering_method='NONE',\n",
    "                           relaxation_factor=relax)\n",
    "sim.register_ims_package(ims, [gwf.name])\n",
    "\n",
    "dis = flopy.mf6.ModflowGwfdis(gwf, nlay=nlay, nrow=nrow, ncol=ncol,\n",
    "                              delr=delr, delc=delc,\n",
    "                              top=top, botm=botm,\n",
    "                              idomain=ib,\n",
    "                              filename='{}.dis'.format(name))\n",
    "\n",
    "# initial conditions\n",
    "ic = flopy.mf6.ModflowGwfic(gwf, strt=strt,\n",
    "                            filename='{}.ic'.format(name))\n",
    "\n",
    "# node property flow\n",
    "npf = flopy.mf6.ModflowGwfnpf(gwf, save_flows=False,\n",
    "                              icelltype=laytyp,\n",
    "                              k=hk,\n",
    "                              k33=hk)\n",
    "# storage\n",
    "sto = flopy.mf6.ModflowGwfsto(gwf, save_flows=False, iconvert=laytyp,\n",
    "                              ss=0., sy=sy,\n",
    "                              steady_state={0: True},\n",
    "                              transient={1: True})\n",
    "\n",
    "# chd files\n",
    "chd = flopy.mf6.modflow.mfgwfchd.ModflowGwfchd(gwf,\n",
    "                                               maxbound=len(chd6),\n",
    "                                               stress_period_data=cd6,\n",
    "                                               save_flows=False)\n",
    "\n",
    "# wel files\n",
    "wel = flopy.mf6.ModflowGwfwel(gwf, print_input=True, print_flows=True,\n",
    "                              maxbound=len(ws2),\n",
    "                              stress_period_data=wd6,\n",
    "                              save_flows=False)\n",
    "\n",
    "# csub files\n",
    "gg = []\n",
    "for i in range(nrow):\n",
    "    for j in range(ncol):\n",
    "        if ib0[i, j] > 0:\n",
    "            gg.append([(0, i, j), gs0])\n",
    "sig0 = {0: gg}\n",
    "opth = '{}.csub.obs'.format(name)\n",
    "csub = flopy.mf6.ModflowGwfcsub(gwf,\n",
    "                                # interbed_stress_offset=True,\n",
    "                                boundnames=True,\n",
    "                                compression_indices=True,\n",
    "                                update_material_properties=ump,\n",
    "                                time_weight=0.,\n",
    "                                ninterbeds=len(swt6),\n",
    "                                sgs=sgs, sgm=sgm,\n",
    "                                beta=beta,\n",
    "                                gammaw=gammaw,\n",
    "                                ske_cr=0.,\n",
    "                                sk_theta=theta,\n",
    "                                packagedata=swt6,\n",
    "                                maxsig0=len(gg),\n",
    "                                stress_period_data=sig0)\n",
    "orecarray = {}\n",
    "orecarray['csub_obs.csv'] = [('w1l1', 'interbed-compaction', '01_09_10'),\n",
    "                             ('w1l2', 'interbed-compaction', '02_09_10'),\n",
    "                             ('w1l3', 'interbed-compaction', '03_09_10'),\n",
    "                             ('w1l4', 'interbed-compaction', '04_09_10'),\n",
    "                             ('w2l1', 'interbed-compaction', '01_12_07'),\n",
    "                             ('w2l2', 'interbed-compaction', '02_12_07'),\n",
    "                             ('w2l3', 'interbed-compaction', '03_12_07'),\n",
    "                             ('w2l4', 'interbed-compaction', '04_12_07'),\n",
    "                             ('w2l4q', 'csub-cell', (3, 11, 6))]\n",
    "csub_obs_package = csub.obs.initialize(filename=opth, digits=10,\n",
    "                                       print_input=True,\n",
    "                                       continuous=orecarray)\n",
    "\n",
    "# output control\n",
    "oc = flopy.mf6.ModflowGwfoc(gwf,\n",
    "                            budget_filerecord='{}.cbc'.format(name),\n",
    "                            head_filerecord='{}.hds'.format(name),\n",
    "                            headprintrecord=[\n",
    "                                ('COLUMNS', 10, 'WIDTH', 15,\n",
    "                                 'DIGITS', 6, 'GENERAL')],\n",
    "                            saverecord=[('HEAD', 'ALL'),\n",
    "                                        ('BUDGET', 'ALL')],\n",
    "                            printrecord=[('HEAD', 'LAST'),\n",
    "                                         ('BUDGET', 'ALL')])"
   ]
  },
  {
   "cell_type": "code",
   "execution_count": 19,
   "metadata": {},
   "outputs": [
    {
     "name": "stdout",
     "output_type": "stream",
     "text": [
      "writing simulation...\n",
      "  writing simulation name file...\n",
      "  writing simulation tdis package...\n",
      "  writing ims package ims_-1...\n",
      "  writing model csub_subwt...\n",
      "    writing model name file...\n",
      "    writing package dis...\n",
      "    writing package ic...\n",
      "    writing package npf...\n",
      "    writing package sto...\n",
      "    writing package chd_0...\n",
      "    writing package wel...\n",
      "    writing package csub...\n",
      "    writing package obs_0...\n",
      "    writing package oc...\n"
     ]
    }
   ],
   "source": [
    "# write input files\n",
    "sim.write_simulation()"
   ]
  },
  {
   "cell_type": "code",
   "execution_count": 20,
   "metadata": {},
   "outputs": [
    {
     "name": "stdout",
     "output_type": "stream",
     "text": [
      "FloPy is using the following  executable to run the model: /Users/jdhughes/Documents/trash/mf6flopy2019_classrepo/exercises/bin/macos/mf6beta\n",
      "                                   MODFLOW 6\n",
      "                U.S. GEOLOGICAL SURVEY MODULAR HYDROLOGIC MODEL\n",
      "                          VERSION 6.0.4.144 03/20/2019\n",
      "                               ***DEVELOP MODE***\n",
      "\n",
      "   MODFLOW 6 compiled Mar 25 2019 08:18:29 with IFORT compiler (ver. 19.0.0)\n",
      "\n",
      "This software is preliminary or provisional and is subject to \n",
      "revision. It is being provided to meet the need for timely best \n",
      "science. The software has not received final approval by the U.S. \n",
      "Geological Survey (USGS). No warranty, expressed or implied, is made \n",
      "by the USGS or the U.S. Government as to the functionality of the \n",
      "software and related material nor shall the fact of release \n",
      "constitute any such warranty. The software is provided on the \n",
      "condition that neither the USGS nor the U.S. Government shall be held \n",
      "liable for any damages resulting from the authorized or unauthorized \n",
      "use of the software.\n",
      "\n",
      " Run start date and time (yyyy/mm/dd hh:mm:ss): 2019/03/28 16:40:57\n",
      "\n",
      " Writing simulation list file: mfsim.lst\n",
      " Using Simulation name file: mfsim.nam\n",
      " Solving:  Stress period:     1    Time step:     1\n",
      " Solving:  Stress period:     2    Time step:     1\n",
      " Solving:  Stress period:     2    Time step:     2\n",
      " Solving:  Stress period:     2    Time step:     3\n",
      " Solving:  Stress period:     2    Time step:     4\n",
      " Solving:  Stress period:     2    Time step:     5\n",
      " Solving:  Stress period:     2    Time step:     6\n",
      " Solving:  Stress period:     2    Time step:     7\n",
      " Solving:  Stress period:     2    Time step:     8\n",
      " Solving:  Stress period:     2    Time step:     9\n",
      " Solving:  Stress period:     2    Time step:    10\n",
      " Solving:  Stress period:     2    Time step:    11\n",
      " Solving:  Stress period:     2    Time step:    12\n",
      " Solving:  Stress period:     2    Time step:    13\n",
      " Solving:  Stress period:     2    Time step:    14\n",
      " Solving:  Stress period:     2    Time step:    15\n",
      " Solving:  Stress period:     2    Time step:    16\n",
      " Solving:  Stress period:     2    Time step:    17\n",
      " Solving:  Stress period:     2    Time step:    18\n",
      " Solving:  Stress period:     2    Time step:    19\n",
      " Solving:  Stress period:     2    Time step:    20\n",
      " Solving:  Stress period:     2    Time step:    21\n",
      " Solving:  Stress period:     2    Time step:    22\n",
      " Solving:  Stress period:     2    Time step:    23\n",
      " Solving:  Stress period:     2    Time step:    24\n",
      " Solving:  Stress period:     2    Time step:    25\n",
      " Solving:  Stress period:     2    Time step:    26\n",
      " Solving:  Stress period:     2    Time step:    27\n",
      " Solving:  Stress period:     2    Time step:    28\n",
      " Solving:  Stress period:     2    Time step:    29\n",
      " Solving:  Stress period:     2    Time step:    30\n",
      " Solving:  Stress period:     2    Time step:    31\n",
      " Solving:  Stress period:     2    Time step:    32\n",
      " Solving:  Stress period:     2    Time step:    33\n",
      " Solving:  Stress period:     2    Time step:    34\n",
      " Solving:  Stress period:     2    Time step:    35\n",
      " Solving:  Stress period:     2    Time step:    36\n",
      " Solving:  Stress period:     2    Time step:    37\n",
      " Solving:  Stress period:     2    Time step:    38\n",
      " Solving:  Stress period:     2    Time step:    39\n",
      " Solving:  Stress period:     2    Time step:    40\n",
      " Solving:  Stress period:     2    Time step:    41\n",
      " Solving:  Stress period:     2    Time step:    42\n",
      " Solving:  Stress period:     2    Time step:    43\n",
      " Solving:  Stress period:     2    Time step:    44\n",
      " Solving:  Stress period:     2    Time step:    45\n",
      " Solving:  Stress period:     2    Time step:    46\n",
      " Solving:  Stress period:     2    Time step:    47\n",
      " Solving:  Stress period:     2    Time step:    48\n",
      " Solving:  Stress period:     2    Time step:    49\n",
      " Solving:  Stress period:     2    Time step:    50\n",
      " Solving:  Stress period:     2    Time step:    51\n",
      " Solving:  Stress period:     2    Time step:    52\n",
      " Solving:  Stress period:     2    Time step:    53\n",
      " Solving:  Stress period:     2    Time step:    54\n",
      " Solving:  Stress period:     2    Time step:    55\n",
      " Solving:  Stress period:     2    Time step:    56\n",
      " Solving:  Stress period:     2    Time step:    57\n",
      " Solving:  Stress period:     2    Time step:    58\n",
      " Solving:  Stress period:     2    Time step:    59\n",
      " Solving:  Stress period:     2    Time step:    60\n",
      " Solving:  Stress period:     3    Time step:     1\n",
      " Solving:  Stress period:     3    Time step:     2\n",
      " Solving:  Stress period:     3    Time step:     3\n",
      " Solving:  Stress period:     3    Time step:     4\n",
      " Solving:  Stress period:     3    Time step:     5\n",
      " Solving:  Stress period:     3    Time step:     6\n",
      " Solving:  Stress period:     3    Time step:     7\n",
      " Solving:  Stress period:     3    Time step:     8\n",
      " Solving:  Stress period:     3    Time step:     9\n",
      " Solving:  Stress period:     3    Time step:    10\n",
      " Solving:  Stress period:     3    Time step:    11\n",
      " Solving:  Stress period:     3    Time step:    12\n",
      " Solving:  Stress period:     3    Time step:    13\n",
      " Solving:  Stress period:     3    Time step:    14\n",
      " Solving:  Stress period:     3    Time step:    15\n",
      " Solving:  Stress period:     3    Time step:    16\n",
      " Solving:  Stress period:     3    Time step:    17\n",
      " Solving:  Stress period:     3    Time step:    18\n",
      " Solving:  Stress period:     3    Time step:    19\n",
      " Solving:  Stress period:     3    Time step:    20\n",
      " Solving:  Stress period:     3    Time step:    21\n",
      " Solving:  Stress period:     3    Time step:    22\n",
      " Solving:  Stress period:     3    Time step:    23\n",
      " Solving:  Stress period:     3    Time step:    24\n",
      " Solving:  Stress period:     3    Time step:    25\n",
      " Solving:  Stress period:     3    Time step:    26\n",
      " Solving:  Stress period:     3    Time step:    27\n",
      " Solving:  Stress period:     3    Time step:    28\n",
      " Solving:  Stress period:     3    Time step:    29\n",
      " Solving:  Stress period:     3    Time step:    30\n",
      " Solving:  Stress period:     3    Time step:    31\n",
      " Solving:  Stress period:     3    Time step:    32\n",
      " Solving:  Stress period:     3    Time step:    33\n",
      " Solving:  Stress period:     3    Time step:    34\n",
      " Solving:  Stress period:     3    Time step:    35\n",
      " Solving:  Stress period:     3    Time step:    36\n",
      " Solving:  Stress period:     3    Time step:    37\n",
      " Solving:  Stress period:     3    Time step:    38\n",
      " Solving:  Stress period:     3    Time step:    39\n",
      " Solving:  Stress period:     3    Time step:    40\n",
      " Solving:  Stress period:     3    Time step:    41\n",
      " Solving:  Stress period:     3    Time step:    42\n",
      " Solving:  Stress period:     3    Time step:    43\n",
      " Solving:  Stress period:     3    Time step:    44\n",
      " Solving:  Stress period:     3    Time step:    45\n",
      " Solving:  Stress period:     3    Time step:    46\n",
      " Solving:  Stress period:     3    Time step:    47\n",
      " Solving:  Stress period:     3    Time step:    48\n",
      " Solving:  Stress period:     3    Time step:    49\n",
      " Solving:  Stress period:     3    Time step:    50\n",
      " Solving:  Stress period:     3    Time step:    51\n",
      " Solving:  Stress period:     3    Time step:    52\n",
      " Solving:  Stress period:     3    Time step:    53\n",
      " Solving:  Stress period:     3    Time step:    54\n",
      " Solving:  Stress period:     3    Time step:    55\n",
      " Solving:  Stress period:     3    Time step:    56\n",
      " Solving:  Stress period:     3    Time step:    57\n",
      " Solving:  Stress period:     3    Time step:    58\n",
      " Solving:  Stress period:     3    Time step:    59\n",
      " Solving:  Stress period:     3    Time step:    60\n",
      " Run end date and time (yyyy/mm/dd hh:mm:ss): 2019/03/28 16:40:59\n",
      " Elapsed run time:  1.828 Seconds\n",
      "\n",
      " Normal termination of simulation.\n"
     ]
    },
    {
     "data": {
      "text/plain": [
       "(True, [])"
      ]
     },
     "execution_count": 20,
     "metadata": {},
     "output_type": "execute_result"
    }
   ],
   "source": [
    "# run the simulation\n",
    "sim.run_simulation()"
   ]
  },
  {
   "cell_type": "markdown",
   "metadata": {},
   "source": [
    "### Process the model files"
   ]
  },
  {
   "cell_type": "code",
   "execution_count": 21,
   "metadata": {},
   "outputs": [],
   "source": [
    "levels = [i for i in range(100, 130, 2)]\n",
    "masked_values = [1e30]"
   ]
  },
  {
   "cell_type": "code",
   "execution_count": 22,
   "metadata": {},
   "outputs": [],
   "source": [
    "fpth = os.path.join(model_ws, name + '.hds')\n",
    "hobj = flopy.utils.HeadFile(fpth)\n",
    "times = hobj.get_times()"
   ]
  },
  {
   "cell_type": "code",
   "execution_count": 23,
   "metadata": {},
   "outputs": [
    {
     "data": {
      "text/plain": [
       "1e+30"
      ]
     },
     "execution_count": 23,
     "metadata": {},
     "output_type": "execute_result"
    }
   ],
   "source": [
    "tidx = -1\n",
    "h = hobj.get_data(totim=times[tidx])\n",
    "h.max()"
   ]
  },
  {
   "cell_type": "code",
   "execution_count": 24,
   "metadata": {},
   "outputs": [
    {
     "data": {
      "image/png": "[encoded data removed]",
      "text/plain": [
       "<Figure size 360x360 with 2 Axes>"
      ]
     },
     "metadata": {},
     "output_type": "display_data"
    }
   ],
   "source": [
    "k = 1\n",
    "f, ax = plt.subplots(ncols=1, nrows=1, figsize=(5,5))\n",
    "mm = flopy.plot.PlotMapView(model=gwf, ax=ax, layer=k)\n",
    "c = mm.plot_array(h, masked_values=masked_values)\n",
    "mm.contour_array(h, masked_values=masked_values, \n",
    "                 levels=levels, colors='black')\n",
    "plt.colorbar(c, shrink=0.5, ax=ax)\n",
    "plt.tight_layout()"
   ]
  },
  {
   "cell_type": "code",
   "execution_count": 25,
   "metadata": {},
   "outputs": [
    {
     "data": {
      "image/png": "[encoded data removed]",
      "text/plain": [
       "<Figure size 360x360 with 2 Axes>"
      ]
     },
     "metadata": {},
     "output_type": "display_data"
    }
   ],
   "source": [
    "k = 2\n",
    "f, ax = plt.subplots(ncols=1, nrows=1, figsize=(5,5))\n",
    "mm = flopy.plot.PlotMapView(model=gwf, ax=ax, layer=k)\n",
    "c = mm.plot_array(h, masked_values=masked_values)\n",
    "mm.contour_array(h, masked_values=masked_values, \n",
    "                 levels=levels, colors='black')\n",
    "plt.colorbar(c, shrink=0.5, ax=ax)\n",
    "plt.tight_layout()"
   ]
  },
  {
   "cell_type": "code",
   "execution_count": 26,
   "metadata": {},
   "outputs": [
    {
     "data": {
      "image/png": "[encoded data removed]",
      "text/plain": [
       "<Figure size 360x360 with 2 Axes>"
      ]
     },
     "metadata": {},
     "output_type": "display_data"
    }
   ],
   "source": [
    "k = 3\n",
    "f, ax = plt.subplots(ncols=1, nrows=1, figsize=(5,5))\n",
    "mm = flopy.plot.PlotMapView(model=gwf, ax=ax, layer=k)\n",
    "c = mm.plot_array(h, masked_values=masked_values)\n",
    "mm.contour_array(h, masked_values=masked_values, \n",
    "                 levels=levels, colors='black')\n",
    "plt.colorbar(c, shrink=0.5, ax=ax)\n",
    "plt.tight_layout()"
   ]
  },
  {
   "cell_type": "code",
   "execution_count": 27,
   "metadata": {},
   "outputs": [],
   "source": [
    "# get ts at location of largest pumping well and subsidence observation location\n",
    "cid = [(1, 8, 9), (3, 11, 6)]\n",
    "o1 = hobj.get_ts(cid)"
   ]
  },
  {
   "cell_type": "code",
   "execution_count": 28,
   "metadata": {},
   "outputs": [
    {
     "data": {
      "image/png": "[encoded data removed]",
      "text/plain": [
       "<Figure size 360x360 with 1 Axes>"
      ]
     },
     "metadata": {},
     "output_type": "display_data"
    }
   ],
   "source": [
    "f, ax = plt.subplots(ncols=1, nrows=1, figsize=(5,5))\n",
    "ax.plot(o1[:,0], o1[:,1], lw=1, color='red');\n",
    "ax.plot(o1[:,0], o1[:,2], lw=1, color='blue');"
   ]
  },
  {
   "cell_type": "markdown",
   "metadata": {},
   "source": [
    "### Summary of compaction results"
   ]
  },
  {
   "cell_type": "code",
   "execution_count": 29,
   "metadata": {},
   "outputs": [],
   "source": [
    "# MODFLOW 6 total compaction results\n",
    "fpth = os.path.join(model_ws, 'csub_obs.csv')\n",
    "mf6o = np.genfromtxt(fpth, names=True, delimiter=',')    "
   ]
  },
  {
   "cell_type": "code",
   "execution_count": 30,
   "metadata": {},
   "outputs": [],
   "source": [
    "t = mf6o['time'] / 365.25"
   ]
  },
  {
   "cell_type": "code",
   "execution_count": 31,
   "metadata": {},
   "outputs": [
    {
     "name": "stdout",
     "output_type": "stream",
     "text": [
      "Well 1\n",
      "layer 1 0.2123499849\n",
      "layer 2 0.2959303902\n",
      "layer 3 0.06471047484\n",
      "layer 4 0.006666947813\n"
     ]
    }
   ],
   "source": [
    "print('Well 1')\n",
    "print('layer 1', mf6o['W1L1'].max())\n",
    "print('layer 2', mf6o['W1L2'].max())\n",
    "print('layer 3', mf6o['W1L3'].max())\n",
    "print('layer 4', mf6o['W1L4'].max())"
   ]
  },
  {
   "cell_type": "code",
   "execution_count": 32,
   "metadata": {},
   "outputs": [
    {
     "name": "stdout",
     "output_type": "stream",
     "text": [
      "Well 2\n",
      "layer 1 0.04905182247\n",
      "layer 2 0.05734899337\n",
      "layer 3 0.1142412524\n",
      "layer 4 0.2600780802\n"
     ]
    }
   ],
   "source": [
    "print('Well 2')\n",
    "print('layer 1', mf6o['W2L1'].max())\n",
    "print('layer 2', mf6o['W2L2'].max())\n",
    "print('layer 3', mf6o['W2L3'].max())\n",
    "print('layer 4', mf6o['W2L4'].max())"
   ]
  },
  {
   "cell_type": "markdown",
   "metadata": {},
   "source": [
    "### Well 1"
   ]
  },
  {
   "cell_type": "code",
   "execution_count": 33,
   "metadata": {},
   "outputs": [],
   "source": [
    "m6w1l1 = mf6o['W1L1'] + mf6o['W1L2'] + mf6o['W1L3'] + mf6o['W1L4']\n",
    "m6w1l2 = mf6o['W1L2'] + mf6o['W1L3'] + mf6o['W1L4']\n",
    "m6w1l3 = mf6o['W1L3'] + mf6o['W1L4']\n",
    "m6w1l4 = mf6o['W1L4']"
   ]
  },
  {
   "cell_type": "code",
   "execution_count": 34,
   "metadata": {},
   "outputs": [
    {
     "data": {
      "image/png": "[encoded data removed]",
      "text/plain": [
       "<Figure size 432x288 with 1 Axes>"
      ]
     },
     "metadata": {},
     "output_type": "display_data"
    }
   ],
   "source": [
    "plt.plot(t, m6w1l4, color='blue', lw=0.75, label='layer 4')\n",
    "plt.plot(t, m6w1l3, color='orange', lw=0.75, label='layer 3')\n",
    "plt.plot(t, m6w1l2, color='green', lw=0.75, label='layer 2')\n",
    "plt.plot(t, m6w1l1, color='red', lw=0.75, label='layer 1')\n",
    "plt.legend(frameon=False)\n",
    "plt.title('Well 1')\n",
    "plt.xlabel('time')\n",
    "plt.ylabel('Downward\\nvertical displacement');\n",
    "#plt.ylim(0,0.7);"
   ]
  },
  {
   "cell_type": "markdown",
   "metadata": {},
   "source": [
    "### Well 2"
   ]
  },
  {
   "cell_type": "code",
   "execution_count": 35,
   "metadata": {},
   "outputs": [],
   "source": [
    "m6w2l1 = mf6o['W2L1'] + mf6o['W2L2'] + mf6o['W2L3'] + mf6o['W2L4']\n",
    "m6w2l2 = mf6o['W2L2'] + mf6o['W2L3'] + mf6o['W2L4']\n",
    "m6w2l3 = mf6o['W2L3'] + mf6o['W2L4']\n",
    "m6w2l4 = mf6o['W2L4']"
   ]
  },
  {
   "cell_type": "code",
   "execution_count": 36,
   "metadata": {},
   "outputs": [
    {
     "data": {
      "image/png": "[encoded data removed]",
      "text/plain": [
       "<Figure size 432x288 with 1 Axes>"
      ]
     },
     "metadata": {},
     "output_type": "display_data"
    }
   ],
   "source": [
    "plt.plot(t, m6w2l4, color='blue', lw=0.75, label='layer 4')\n",
    "plt.plot(t, m6w2l3, color='orange', lw=0.75, label='layer 3')\n",
    "plt.plot(t, m6w2l2, color='green', lw=0.75, label='layer 2')\n",
    "plt.plot(t, m6w2l1, color='red', lw=0.75, label='layer 1')\n",
    "plt.legend(frameon=False)\n",
    "plt.title('Well 2')\n",
    "plt.xlabel('time')\n",
    "plt.ylabel('Downward\\nvertical displacement');\n",
    "#plt.ylim(0,0.7);"
   ]
  },
  {
   "cell_type": "code",
   "execution_count": null,
   "metadata": {},
   "outputs": [],
   "source": []
  }
 ],
 "metadata": {
  "anaconda-cloud": {},
  "kernelspec": {
   "display_name": "Python 3",
   "language": "python",
   "name": "python3"
  },
  "language_info": {
   "codemirror_mode": {
    "name": "ipython",
    "version": 3
   },
   "file_extension": ".py",
   "mimetype": "text/x-python",
   "name": "python",
   "nbconvert_exporter": "python",
   "pygments_lexer": "ipython3",
   "version": "3.6.7"
  }
 },
 "nbformat": 4,
 "nbformat_minor": 2
}
