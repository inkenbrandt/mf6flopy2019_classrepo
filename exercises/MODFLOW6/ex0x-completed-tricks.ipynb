{
 "cells": [
  {
   "cell_type": "markdown",
   "metadata": {},
   "source": [
    "![alt text](../img/header.jpg)\n",
    "\n",
    "# Flopy Tips and Tricks for MODFLOW 6 Models\n",
    "\n",
    "* Simplest running model\n",
    "* Working with arrays\n",
    "* Working with lists\n"
   ]
  },
  {
   "cell_type": "code",
   "execution_count": null,
   "metadata": {},
   "outputs": [],
   "source": [
    "import os\n",
    "import sys\n",
    "import shutil\n",
    "import numpy as np\n",
    "import matplotlib as mpl\n",
    "import matplotlib.pyplot as plt\n",
    "import flopy\n",
    "\n",
    "import config\n",
    "\n",
    "print(sys.version)\n",
    "print('python executable: {}'.format(sys.executable))\n",
    "print('numpy version: {}'.format(np.__version__))\n",
    "print('matplotlib version: {}'.format(mpl.__version__))\n",
    "print('flopy version: {}'.format(flopy.__version__))"
   ]
  },
  {
   "cell_type": "markdown",
   "metadata": {},
   "source": [
    "## Simplest Running Model"
   ]
  },
  {
   "cell_type": "code",
   "execution_count": null,
   "metadata": {},
   "outputs": [],
   "source": [
    "model_ws = './ex0x-completed-tricks'"
   ]
  },
  {
   "cell_type": "code",
   "execution_count": null,
   "metadata": {},
   "outputs": [],
   "source": [
    "sim = flopy.mf6.MFSimulation(exe_name=config.mf6exe, \n",
    "                             sim_ws=model_ws)\n",
    "tdis = flopy.mf6.modflow.mftdis.ModflowTdis(sim)\n",
    "ims = flopy.mf6.modflow.mfims.ModflowIms(sim)\n",
    "gwf = flopy.mf6.ModflowGwf(sim)\n",
    "dis = flopy.mf6.ModflowGwfdis(gwf)\n",
    "ic = flopy.mf6.ModflowGwfic(gwf)\n",
    "npf = flopy.mf6.ModflowGwfnpf(gwf)\n",
    "chd = flopy.mf6.ModflowGwfchd(gwf, stress_period_data=[[(0, 0, 0), 0.]])\n",
    "sim.write_simulation()\n",
    "sim.run_simulation()"
   ]
  },
  {
   "cell_type": "markdown",
   "metadata": {},
   "source": [
    "## Working with Arrays\n",
    "\n",
    "### List of 2D Arrays"
   ]
  },
  {
   "cell_type": "code",
   "execution_count": null,
   "metadata": {},
   "outputs": [],
   "source": [
    "sim = flopy.mf6.MFSimulation(exe_name=config.mf6exe, \n",
    "                             sim_ws=model_ws)\n",
    "tdis = flopy.mf6.modflow.mftdis.ModflowTdis(sim)\n",
    "ims = flopy.mf6.modflow.mfims.ModflowIms(sim)\n",
    "gwf = flopy.mf6.ModflowGwf(sim)\n",
    "\n",
    "# set up grid information\n",
    "nlay, nrow, ncol = 3, 12, 10\n",
    "top = 0.\n",
    "dz = 1.\n",
    "botm = [top - (k + 1) * dz for k in range(nlay)]\n",
    "dis = flopy.mf6.ModflowGwfdis(gwf, nlay=nlay, nrow=nrow, ncol=ncol,\n",
    "                              top=top, botm=botm)\n",
    "\n",
    "ic = flopy.mf6.ModflowGwfic(gwf)\n",
    "\n",
    "# pass in a list of two dimensional arrays\n",
    "k1 = np.random.random((nrow, ncol))\n",
    "k2 = np.random.random((nrow, ncol))\n",
    "k3 = np.random.random((nrow, ncol))\n",
    "npf = flopy.mf6.ModflowGwfnpf(gwf, k=[k1, k2, k3])\n",
    "\n",
    "chd = flopy.mf6.ModflowGwfchd(gwf, stress_period_data=[[(0, 0, 0), 0.],\n",
    "                                                       [(0, nrow - 1, ncol - 1), 1.],])\n",
    "sim.write_simulation()\n",
    "sim.run_simulation()"
   ]
  },
  {
   "cell_type": "markdown",
   "metadata": {},
   "source": [
    "### Using an External Array File"
   ]
  },
  {
   "cell_type": "code",
   "execution_count": null,
   "metadata": {},
   "outputs": [],
   "source": [
    "sim = flopy.mf6.MFSimulation(exe_name=config.mf6exe, \n",
    "                             sim_ws=model_ws)\n",
    "tdis = flopy.mf6.modflow.mftdis.ModflowTdis(sim)\n",
    "ims = flopy.mf6.modflow.mfims.ModflowIms(sim)\n",
    "gwf = flopy.mf6.ModflowGwf(sim)\n",
    "\n",
    "# set up grid information\n",
    "nlay, nrow, ncol = 3, 12, 10\n",
    "top = 0.\n",
    "dz = 1.\n",
    "botm = [top - (k + 1) * dz for k in range(nlay)]\n",
    "dis = flopy.mf6.ModflowGwfdis(gwf, nlay=nlay, nrow=nrow, ncol=ncol,\n",
    "                              top=top, botm=botm)\n",
    "\n",
    "ic = flopy.mf6.ModflowGwfic(gwf)\n",
    "\n",
    "# pass in a list with one layer passed as a dictionary\n",
    "k1 = np.random.random((nrow, ncol))\n",
    "k2a = np.random.random((nrow, ncol))\n",
    "k2 = {'filename': 'model.npf.k1.dat', 'data': k2a, 'factor':2.0}\n",
    "k3 = np.random.random((nrow, ncol))\n",
    "npf = flopy.mf6.ModflowGwfnpf(gwf, k=[k1, k2, k3])\n",
    "\n",
    "chd = flopy.mf6.ModflowGwfchd(gwf, stress_period_data=[[(0, 0, 0), 0.],\n",
    "                                                       [(0, nrow - 1, ncol - 1), 1.],])\n",
    "sim.write_simulation()\n",
    "sim.run_simulation()"
   ]
  },
  {
   "cell_type": "markdown",
   "metadata": {},
   "source": [
    "### Using an External Binary Array File"
   ]
  },
  {
   "cell_type": "code",
   "execution_count": null,
   "metadata": {},
   "outputs": [],
   "source": [
    "def write_binary_file(fname, arr):\n",
    "    text = 'head'\n",
    "    pertim = np.float64(1.0)\n",
    "    nrow = arr.shape[0]\n",
    "    ncol = arr.shape[1]\n",
    "    precision = 'double'\n",
    "    header = flopy.utils.BinaryHeader.create(bintype=text, precision=precision,\n",
    "                                             text=text, nrow=nrow, ncol=ncol,\n",
    "                                             ilay=1, pertim=pertim,\n",
    "                                             totim=pertim, kstp=1, kper=1)\n",
    "    flopy.utils.Util2d.write_bin(arr.shape, fname, arr, header_data=header)\n",
    "    return\n",
    "    \n",
    "sim = flopy.mf6.MFSimulation(exe_name=config.mf6exe, \n",
    "                             sim_ws=model_ws)\n",
    "tdis = flopy.mf6.modflow.mftdis.ModflowTdis(sim)\n",
    "ims = flopy.mf6.modflow.mfims.ModflowIms(sim)\n",
    "gwf = flopy.mf6.ModflowGwf(sim)\n",
    "\n",
    "# set up grid information\n",
    "nlay, nrow, ncol = 3, 12, 10\n",
    "top = 0.\n",
    "dz = 1.\n",
    "botm = [top - (k + 1) * dz for k in range(nlay)]\n",
    "dis = flopy.mf6.ModflowGwfdis(gwf, nlay=nlay, nrow=nrow, ncol=ncol,\n",
    "                              top=top, botm=botm)\n",
    "\n",
    "ic = flopy.mf6.ModflowGwfic(gwf)\n",
    "\n",
    "k1 = np.random.random((nrow, ncol))\n",
    "\n",
    "# Layer 2 K from binary file\n",
    "k2a = np.random.random((nrow, ncol))\n",
    "fname = 'model.npf.k1.bin'\n",
    "write_binary_file(os.path.join(model_ws, fname), k2a)\n",
    "k2 = {'filename': fname, 'binary': True, 'iprn':1}\n",
    "\n",
    "k3 = np.random.random((nrow, ncol))\n",
    "npf = flopy.mf6.ModflowGwfnpf(gwf, k=[k1, k2, k3])\n",
    "\n",
    "chd = flopy.mf6.ModflowGwfchd(gwf, stress_period_data=[[(0, 0, 0), 0.],\n",
    "                                                       [(0, nrow - 1, ncol - 1), 1.],])\n",
    "sim.write_simulation()\n",
    "sim.run_simulation()"
   ]
  },
  {
   "cell_type": "markdown",
   "metadata": {},
   "source": [
    "## Working with Lists\n",
    "\n",
    "### Internal Lists"
   ]
  },
  {
   "cell_type": "code",
   "execution_count": null,
   "metadata": {},
   "outputs": [],
   "source": [
    "sim = flopy.mf6.MFSimulation(exe_name=config.mf6exe, \n",
    "                             sim_ws=model_ws)\n",
    "tdis = flopy.mf6.modflow.mftdis.ModflowTdis(sim)\n",
    "ims = flopy.mf6.modflow.mfims.ModflowIms(sim)\n",
    "gwf = flopy.mf6.ModflowGwf(sim)\n",
    "\n",
    "# set up grid information\n",
    "nlay, nrow, ncol = 3, 12, 10\n",
    "top = 0.\n",
    "dz = 1.\n",
    "botm = [top - (k + 1) * dz for k in range(nlay)]\n",
    "dis = flopy.mf6.ModflowGwfdis(gwf, nlay=nlay, nrow=nrow, ncol=ncol,\n",
    "                              top=top, botm=botm)\n",
    "ic = flopy.mf6.ModflowGwfic(gwf)\n",
    "npf = flopy.mf6.ModflowGwfnpf(gwf)\n",
    "\n",
    "chd_spd = [[(0, i, 0), 0.] for i in range(nrow)]\n",
    "chd_spd += [[(0, i, ncol - 1), 1.] for i in range(nrow)]\n",
    "chd = flopy.mf6.ModflowGwfchd(gwf, stress_period_data=chd_spd)\n",
    "\n",
    "sim.write_simulation()\n",
    "sim.run_simulation()"
   ]
  },
  {
   "cell_type": "markdown",
   "metadata": {},
   "source": [
    "### Using BOUNDNAMES"
   ]
  },
  {
   "cell_type": "code",
   "execution_count": null,
   "metadata": {},
   "outputs": [],
   "source": [
    "sim = flopy.mf6.MFSimulation(exe_name=config.mf6exe, \n",
    "                             sim_ws=model_ws)\n",
    "tdis = flopy.mf6.modflow.mftdis.ModflowTdis(sim)\n",
    "ims = flopy.mf6.modflow.mfims.ModflowIms(sim)\n",
    "gwf = flopy.mf6.ModflowGwf(sim)\n",
    "\n",
    "# set up grid information\n",
    "nlay, nrow, ncol = 3, 12, 10\n",
    "top = 0.\n",
    "dz = 1.\n",
    "botm = [top - (k + 1) * dz for k in range(nlay)]\n",
    "dis = flopy.mf6.ModflowGwfdis(gwf, nlay=nlay, nrow=nrow, ncol=ncol,\n",
    "                              top=top, botm=botm)\n",
    "ic = flopy.mf6.ModflowGwfic(gwf)\n",
    "npf = flopy.mf6.ModflowGwfnpf(gwf)\n",
    "\n",
    "chd_spd = [[(0, i, 0), 0., 'left'] for i in range(nrow)]\n",
    "chd_spd += [[(0, i, ncol - 1), 1., 'right'] for i in range(nrow)]\n",
    "chd = flopy.mf6.ModflowGwfchd(gwf, stress_period_data=chd_spd, boundnames=True)\n",
    "\n",
    "fname = 'model.chd.obs.dat'\n",
    "chd_obs = {fname: [('left_flow', 'CHD', 'LEFT'),\n",
    "                   ('right_flow', 'CHD', 'RIGHT')]}\n",
    "chd.obs.initialize(continuous=chd_obs)\n",
    "\n",
    "sim.write_simulation()\n",
    "sim.run_simulation()"
   ]
  },
  {
   "cell_type": "markdown",
   "metadata": {},
   "source": [
    "### External File Lists"
   ]
  },
  {
   "cell_type": "code",
   "execution_count": null,
   "metadata": {},
   "outputs": [],
   "source": [
    "sim = flopy.mf6.MFSimulation(exe_name=config.mf6exe, \n",
    "                             sim_ws=model_ws)\n",
    "tdis = flopy.mf6.modflow.mftdis.ModflowTdis(sim)\n",
    "ims = flopy.mf6.modflow.mfims.ModflowIms(sim)\n",
    "gwf = flopy.mf6.ModflowGwf(sim)\n",
    "\n",
    "# set up grid information\n",
    "nlay, nrow, ncol = 3, 12, 10\n",
    "top = 0.\n",
    "dz = 1.\n",
    "botm = [top - (k + 1) * dz for k in range(nlay)]\n",
    "dis = flopy.mf6.ModflowGwfdis(gwf, nlay=nlay, nrow=nrow, ncol=ncol,\n",
    "                              top=top, botm=botm)\n",
    "ic = flopy.mf6.ModflowGwfic(gwf)\n",
    "npf = flopy.mf6.ModflowGwfnpf(gwf)\n",
    "\n",
    "chd_spd = [[(0, i, 0), 0.] for i in range(nrow)]\n",
    "chd_spd += [[(0, i, ncol - 1), 1.] for i in range(nrow)]\n",
    "chd_spd0 = {'filename': 'model.chd.sp0', 'data': chd_spd}\n",
    "chd_spd = {0: chd_spd0}\n",
    "chd = flopy.mf6.ModflowGwfchd(gwf, stress_period_data=chd_spd, maxbound=nrow*2)\n",
    "\n",
    "sim.write_simulation()\n",
    "sim.run_simulation()"
   ]
  },
  {
   "cell_type": "markdown",
   "metadata": {},
   "source": [
    "### External Binary File Lists"
   ]
  },
  {
   "cell_type": "code",
   "execution_count": null,
   "metadata": {},
   "outputs": [],
   "source": [
    "# not working in Flopy yet, but close...\n",
    "sim = flopy.mf6.MFSimulation(exe_name=config.mf6exe, \n",
    "                             sim_ws=model_ws)\n",
    "tdis = flopy.mf6.modflow.mftdis.ModflowTdis(sim)\n",
    "ims = flopy.mf6.modflow.mfims.ModflowIms(sim)\n",
    "gwf = flopy.mf6.ModflowGwf(sim)\n",
    "\n",
    "# set up grid information\n",
    "nlay, nrow, ncol = 3, 12, 10\n",
    "top = 0.\n",
    "dz = 1.\n",
    "botm = [top - (k + 1) * dz for k in range(nlay)]\n",
    "dis = flopy.mf6.ModflowGwfdis(gwf, nlay=nlay, nrow=nrow, ncol=ncol,\n",
    "                              top=top, botm=botm)\n",
    "ic = flopy.mf6.ModflowGwfic(gwf)\n",
    "npf = flopy.mf6.ModflowGwfnpf(gwf)\n",
    "\n",
    "dt = [('layer', np.int32), ('row', np.int32), ('col', np.int32), ('head', np.float64)]\n",
    "dt = np.dtype(dt)\n",
    "a = [(0, i, 0, 0.) for i in range(nrow)]\n",
    "a += [(0, i, ncol - 1, 1.) for i in range(nrow)]\n",
    "a = np.array(a, dtype=dt)\n",
    "a['layer'] += 1\n",
    "a['row'] += 1\n",
    "a['col'] += 1\n",
    "\n",
    "fname = 'model.chd.sp0'\n",
    "fout = open(os.path.join(model_ws, fname), 'wb')\n",
    "a.tofile(fout)\n",
    "fout.close()\n",
    "\n",
    "chd_spd0 = {'filename': fname, 'factor': None, 'binary': True}\n",
    "chd_spd = {0: chd_spd0}\n",
    "chd = flopy.mf6.ModflowGwfchd(gwf, stress_period_data=chd_spd, maxbound=nrow*2)\n",
    "\n",
    "sim.write_simulation()\n",
    "sim.run_simulation()"
   ]
  },
  {
   "cell_type": "code",
   "execution_count": null,
   "metadata": {},
   "outputs": [],
   "source": []
  }
 ],
 "metadata": {
  "kernelspec": {
   "display_name": "Python 3",
   "language": "python",
   "name": "python3"
  },
  "language_info": {
   "codemirror_mode": {
    "name": "ipython",
    "version": 3
   },
   "file_extension": ".py",
   "mimetype": "text/x-python",
   "name": "python",
   "nbconvert_exporter": "python",
   "pygments_lexer": "ipython3",
   "version": "3.7.0"
  }
 },
 "nbformat": 4,
 "nbformat_minor": 2
}
